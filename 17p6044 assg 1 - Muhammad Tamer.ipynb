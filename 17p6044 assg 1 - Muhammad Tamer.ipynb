{
 "cells": [
  {
   "cell_type": "code",
   "execution_count": 1,
   "id": "worthy-catalyst",
   "metadata": {},
   "outputs": [],
   "source": [
    "import numpy as np\n",
    "import scipy\n",
    "import matplotlib\n",
    "import tqdm"
   ]
  },
  {
   "cell_type": "code",
   "execution_count": 2,
   "id": "independent-vegetarian",
   "metadata": {},
   "outputs": [
    {
     "name": "stdout",
     "output_type": "stream",
     "text": [
      "\u001b[1;32mPASS\u001b[m NumPy installed\n",
      "\u001b[1;32mPASS\u001b[m SciPy installed\n",
      "\u001b[1;32mPASS\u001b[m matplotlib installed\n",
      "\u001b[1;32mPASS\u001b[m PyTorch installed\n",
      "\u001b[1;32mPASS\u001b[m tqdm installed\n"
     ]
    }
   ],
   "source": [
    "import traceback\n",
    "\n",
    "\n",
    "def green(s):\n",
    "    return '\\033[1;32m%s\\033[m' % s\n",
    "\n",
    "\n",
    "def yellow(s):\n",
    "    return '\\033[1;33m%s\\033[m' % s\n",
    "\n",
    "\n",
    "def red(s):\n",
    "    return '\\033[1;31m%s\\033[m' % s\n",
    "\n",
    "\n",
    "def log(*m):\n",
    "    print(\" \".join(map(str, m)))\n",
    "\n",
    "\n",
    "def log_exit(*m):\n",
    "    log(red(\"ERROR:\"), *m)\n",
    "    exit(1)\n",
    "\n",
    "\n",
    "def check_numpy():\n",
    "    try:\n",
    "        import numpy\n",
    "        log(green(\"PASS\"), \"NumPy installed\")\n",
    "    except ModuleNotFoundError:\n",
    "        log(red(\"FAIL\"), \"NumPy not installed\")\n",
    "\n",
    "\n",
    "def check_scipy():\n",
    "    try:\n",
    "        import scipy\n",
    "        log(green(\"PASS\"), \"SciPy installed\")\n",
    "    except ModuleNotFoundError:\n",
    "        log(red(\"FAIL\"), \"SciPy not installed\")\n",
    "\n",
    "\n",
    "def check_matplotlib():\n",
    "    try:\n",
    "        import matplotlib\n",
    "        log(green(\"PASS\"), \"matplotlib installed\")\n",
    "    except ModuleNotFoundError:\n",
    "        log(red(\"FAIL\"), \"matplotlib not installed\")\n",
    "\n",
    "\n",
    "def check_torch():\n",
    "    try:\n",
    "        import torch\n",
    "        log(green(\"PASS\"), \"PyTorch installed\")\n",
    "    except ModuleNotFoundError:\n",
    "        log(red(\"FAIL\"), \"PyTorch not installed\")\n",
    "\n",
    "\n",
    "def check_tqdm():\n",
    "    try:\n",
    "        import tqdm\n",
    "        log(green(\"PASS\"), \"tqdm installed\")\n",
    "    except ModuleNotFoundError:\n",
    "        log(red(\"FAIL\"), \"tqdm not installed\")\n",
    "\n",
    "\n",
    "def main():\n",
    "    try:\n",
    "        check_numpy()\n",
    "        check_scipy()\n",
    "        check_matplotlib()\n",
    "        check_torch()\n",
    "        check_tqdm()\n",
    "    except Exception:\n",
    "        log_exit(traceback.format_exc())\n",
    "\n",
    "\n",
    "if __name__ == \"__main__\":\n",
    "    main()\n"
   ]
  },
  {
   "cell_type": "code",
   "execution_count": 3,
   "id": "tropical-drink",
   "metadata": {},
   "outputs": [],
   "source": [
    "def randomization(n):\n",
    "    \"\"\"\n",
    "    Arg:\n",
    "      n - an integer\n",
    "    Returns:\n",
    "      A - a randomly-generated nx1 Numpy array.\n",
    "    \"\"\"\n",
    "    #Your code here\n",
    "    arr=np.random.rand(n,1)\n",
    "    return arr"
   ]
  },
  {
   "cell_type": "code",
   "execution_count": 4,
   "id": "likely-charlotte",
   "metadata": {},
   "outputs": [
    {
     "name": "stdout",
     "output_type": "stream",
     "text": [
      "[[0.27921167]\n",
      " [0.39329539]\n",
      " [0.87456399]\n",
      " [0.93787338]]\n"
     ]
    }
   ],
   "source": [
    "z=randomization(4)\n",
    "print(z)"
   ]
  },
  {
   "cell_type": "code",
   "execution_count": 5,
   "id": "expanded-niger",
   "metadata": {},
   "outputs": [],
   "source": [
    "def operations(h, w):\n",
    "    \"\"\"\n",
    "    Takes two inputs, h and w, and makes two Numpy arrays A and B of size\n",
    "    h x w, and returns A, B, and s, the sum of A and B.\n",
    "\n",
    "    Arg:\n",
    "      h - an integer describing the height of A and B\n",
    "      w - an integer describing the width of A and B\n",
    "    Returns (in this order):\n",
    "      A - a randomly-generated h x w Numpy array.\n",
    "      B - a randomly-generated h x w Numpy array.\n",
    "      s - the sum of A and B.\n",
    "    \"\"\"\n",
    "    #Your code here\n",
    "    A = np.random.rand(h, w)\n",
    "    B = np.random.rand(h, w)\n",
    "    s = A+B\n",
    "    return A,B,s"
   ]
  },
  {
   "cell_type": "code",
   "execution_count": 6,
   "id": "figured-advancement",
   "metadata": {},
   "outputs": [
    {
     "name": "stdout",
     "output_type": "stream",
     "text": [
      "[[0.37695948 0.25628508]\n",
      " [0.98607909 0.46874298]\n",
      " [0.68315865 0.45603285]\n",
      " [0.08553314 0.12252594]\n",
      " [0.40701927 0.60300564]\n",
      " [0.75036167 0.16725161]\n",
      " [0.61845768 0.43558846]\n",
      " [0.8583547  0.29151319]\n",
      " [0.97425399 0.75526744]\n",
      " [0.25407747 0.05630149]] \n",
      "\n",
      " [[0.7583422  0.36283428]\n",
      " [0.7130173  0.04911095]\n",
      " [0.28254064 0.79769995]\n",
      " [0.56646211 0.99587674]\n",
      " [0.52569666 0.56060805]\n",
      " [0.9192813  0.33156511]\n",
      " [0.71681493 0.65508095]\n",
      " [0.38179197 0.99422737]\n",
      " [0.09491259 0.90557752]\n",
      " [0.51193404 0.37642408]] \n",
      "\n",
      " [[1.13530168 0.61911936]\n",
      " [1.69909638 0.51785393]\n",
      " [0.96569929 1.25373281]\n",
      " [0.65199525 1.11840268]\n",
      " [0.93271593 1.16361369]\n",
      " [1.66964296 0.49881672]\n",
      " [1.33527262 1.09066941]\n",
      " [1.24014668 1.28574056]\n",
      " [1.06916659 1.66084496]\n",
      " [0.76601151 0.43272557]]\n"
     ]
    }
   ],
   "source": [
    "a,b,c= operations(10, 2)\n",
    "print(a, '\\n\\n',b, '\\n\\n', c)"
   ]
  },
  {
   "cell_type": "code",
   "execution_count": 7,
   "id": "nearby-watershed",
   "metadata": {},
   "outputs": [],
   "source": [
    "def norm(A, B):\n",
    "    \"\"\"\n",
    "    Takes two Numpy column arrays, A and B, and returns the L2 norm of their\n",
    "    sum.\n",
    "\n",
    "    Arg:\n",
    "      A - a Numpy array\n",
    "      B - a Numpy array\n",
    "    Returns:\n",
    "      s - the L2 norm of A+B.\n",
    "    \"\"\"\n",
    "    #Your code here\n",
    "    s = np.linalg.norm(A+B)\n",
    "    return s"
   ]
  },
  {
   "cell_type": "code",
   "execution_count": 8,
   "id": "animated-offense",
   "metadata": {},
   "outputs": [
    {
     "data": {
      "text/plain": [
       "1.2304023600625782"
      ]
     },
     "execution_count": 8,
     "metadata": {},
     "output_type": "execute_result"
    }
   ],
   "source": [
    "a=randomization(3)\n",
    "b=randomization(3)\n",
    "norm(a,b)"
   ]
  },
  {
   "cell_type": "code",
   "execution_count": 9,
   "id": "elect-michael",
   "metadata": {},
   "outputs": [],
   "source": [
    "def neural_network(inputs, weights):\n",
    "    \"\"\"\n",
    "     Takes an input vector and runs it through a 1-layer neural network\n",
    "     with a given weight matrix and returns the output.\n",
    "\n",
    "     Arg:\n",
    "       inputs - 2 x 1 NumPy array\n",
    "       weights - 2 x 1 NumPy array\n",
    "     Returns (in this order):\n",
    "       out - a 1 x 1 NumPy array, representing the output of the neural network\n",
    "    \"\"\"\n",
    "    #Your code here\n",
    "    mul=np.matmul(weights.transpose(),inputs)\n",
    "    out=np.tanh(mul)\n",
    "    return out"
   ]
  },
  {
   "cell_type": "code",
   "execution_count": 10,
   "id": "adjusted-nancy",
   "metadata": {},
   "outputs": [
    {
     "name": "stdout",
     "output_type": "stream",
     "text": [
      "[-0.53336389]\n"
     ]
    }
   ],
   "source": [
    "inputs = np.array([0,0,1])\n",
    "weights = 2 * np.random.random((3, 1)) - 1\n",
    "out = neural_network(inputs, weights)\n",
    "\n",
    "print(out)"
   ]
  },
  {
   "cell_type": "code",
   "execution_count": 11,
   "id": "technological-independence",
   "metadata": {},
   "outputs": [],
   "source": [
    "def scalar_function(x, y):\n",
    "    \"\"\"\n",
    "    Returns the f(x,y) defined in the problem statement.\n",
    "    \"\"\"\n",
    "    if(x<y):\n",
    "        return x*y\n",
    "    else:\n",
    "        return x/y"
   ]
  },
  {
   "cell_type": "code",
   "execution_count": 12,
   "id": "located-credit",
   "metadata": {},
   "outputs": [
    {
     "data": {
      "text/plain": [
       "10"
      ]
     },
     "execution_count": 12,
     "metadata": {},
     "output_type": "execute_result"
    }
   ],
   "source": [
    "scalar_function(2,5)"
   ]
  },
  {
   "cell_type": "code",
   "execution_count": 13,
   "id": "twenty-minimum",
   "metadata": {},
   "outputs": [],
   "source": [
    "def vector_function(x, y):\n",
    "    \"\"\"\n",
    "    Make sure vector_function can deal with vector input x,y\n",
    "    \"\"\"\n",
    "    out = np.vectorize(scalar_function)\n",
    "    return out(x,y)"
   ]
  },
  {
   "cell_type": "code",
   "execution_count": 14,
   "id": "committed-logan",
   "metadata": {},
   "outputs": [
    {
     "data": {
      "text/plain": [
       "array(20)"
      ]
     },
     "execution_count": 14,
     "metadata": {},
     "output_type": "execute_result"
    }
   ],
   "source": [
    "vector_function(4,5)"
   ]
  },
  {
   "cell_type": "code",
   "execution_count": null,
   "id": "mexican-editor",
   "metadata": {},
   "outputs": [],
   "source": []
  }
 ],
 "metadata": {
  "kernelspec": {
   "display_name": "Python 3",
   "language": "python",
   "name": "python3"
  },
  "language_info": {
   "codemirror_mode": {
    "name": "ipython",
    "version": 3
   },
   "file_extension": ".py",
   "mimetype": "text/x-python",
   "name": "python",
   "nbconvert_exporter": "python",
   "pygments_lexer": "ipython3",
   "version": "3.7.10"
  }
 },
 "nbformat": 4,
 "nbformat_minor": 5
}
